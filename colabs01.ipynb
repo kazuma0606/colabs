{
  "nbformat": 4,
  "nbformat_minor": 0,
  "metadata": {
    "colab": {
      "name": "colabs01.ipynb",
      "provenance": [],
      "collapsed_sections": [],
      "authorship_tag": "ABX9TyMmj+bL9B1aE+NNYrGcduP3",
      "include_colab_link": true
    },
    "kernelspec": {
      "name": "python3",
      "display_name": "Python 3"
    }
  },
  "cells": [
    {
      "cell_type": "markdown",
      "metadata": {
        "id": "view-in-github",
        "colab_type": "text"
      },
      "source": [
        "<a href=\"https://colab.research.google.com/github/kazuma0606/colabs/blob/master/colabs01.ipynb\" target=\"_parent\"><img src=\"https://colab.research.google.com/assets/colab-badge.svg\" alt=\"Open In Colab\"/></a>"
      ]
    },
    {
      "cell_type": "code",
      "metadata": {
        "id": "Bn_-q4XFYncE",
        "colab_type": "code",
        "colab": {}
      },
      "source": [
        "pip list"
      ],
      "execution_count": null,
      "outputs": []
    },
    {
      "cell_type": "code",
      "metadata": {
        "id": "0NdsxLBVgQM8",
        "colab_type": "code",
        "colab": {
          "base_uri": "https://localhost:8080/",
          "height": 102
        },
        "outputId": "e8a02268-0d07-45b0-a9f2-9c4b0e81fd7b"
      },
      "source": [
        "import tensorflow as tf\n",
        "import keras as kr\n",
        "import theano as th\n",
        "import sklearn as sk\n",
        "import numpy as np\n",
        "\n",
        "print(\"tensorflow version: \",tf.__version__)\n",
        "print(\"keras version: \",kr.__version__)\n",
        "print(\"Theano version: \",th.__version__)\n",
        "print(\"scikit-learn version: \",sk.__version__)\n",
        "print(\"numpy-learn version: \",np.__version__)\n"
      ],
      "execution_count": null,
      "outputs": [
        {
          "output_type": "stream",
          "text": [
            "tensorflow version:  2.2.0\n",
            "keras version:  2.3.1\n",
            "Theano version:  1.0.4\n",
            "scikit-learn version:  0.22.2.post1\n",
            "numpy-learn version:  1.18.5\n"
          ],
          "name": "stdout"
        }
      ]
    },
    {
      "cell_type": "code",
      "metadata": {
        "id": "C5cAuBQElJzn",
        "colab_type": "code",
        "colab": {}
      },
      "source": [
        ""
      ],
      "execution_count": null,
      "outputs": []
    }
  ]
}