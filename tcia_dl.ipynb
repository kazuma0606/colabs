{
  "nbformat": 4,
  "nbformat_minor": 0,
  "metadata": {
    "colab": {
      "name": "tcia_dl.ipynb",
      "provenance": [],
      "authorship_tag": "ABX9TyPYebhEmzQ+GwOntkDCCkH5",
      "include_colab_link": true
    },
    "kernelspec": {
      "name": "python3",
      "display_name": "Python 3"
    }
  },
  "cells": [
    {
      "cell_type": "markdown",
      "metadata": {
        "id": "view-in-github",
        "colab_type": "text"
      },
      "source": [
        "<a href=\"https://colab.research.google.com/github/kazuma0606/colabs/blob/master/tcia_dl.ipynb\" target=\"_parent\"><img src=\"https://colab.research.google.com/assets/colab-badge.svg\" alt=\"Open In Colab\"/></a>"
      ]
    },
    {
      "cell_type": "markdown",
      "metadata": {
        "id": "bnkcl2XsqvcD",
        "colab_type": "text"
      },
      "source": [
        "# TCIAから画像を取得、表示するまでの流れ"
      ]
    },
    {
      "cell_type": "code",
      "metadata": {
        "id": "o32fSfvzlsuR",
        "colab_type": "code",
        "colab": {}
      },
      "source": [
        "from google.colab import drive\n",
        "drive.mount('/content/drive')\n",
        "!pwd"
      ],
      "execution_count": null,
      "outputs": []
    },
    {
      "cell_type": "markdown",
      "metadata": {
        "id": "FXjuHA2TrHks",
        "colab_type": "text"
      },
      "source": [
        "driveをマウントして接続可能にする\n",
        "\n",
        "作業フォルダは\"/content\"\n",
        "\n",
        "tciaclient.pyは'/content/drive/My Drive/TCIA-Python3-Downloader-Menu-3.1'\n",
        "\n",
        "本家URL：https://github.com/hilfikerp/TCIA-Python3-Downloader\n"
      ]
    },
    {
      "cell_type": "code",
      "metadata": {
        "id": "w9lhfQAlm5JZ",
        "colab_type": "code",
        "colab": {}
      },
      "source": [
        "import sys\n",
        "sys.path.append('/content/drive/My Drive/TCIA-Python3-Downloader-Menu-3.1')"
      ],
      "execution_count": null,
      "outputs": []
    },
    {
      "cell_type": "markdown",
      "metadata": {
        "id": "l_nyLxCorsQ7",
        "colab_type": "text"
      },
      "source": [
        "使用するリソースへのpathを追加"
      ]
    },
    {
      "cell_type": "code",
      "metadata": {
        "id": "4O9KWpi9nLBE",
        "colab_type": "code",
        "colab": {}
      },
      "source": [
        "!pip install pydicom"
      ],
      "execution_count": null,
      "outputs": []
    },
    {
      "cell_type": "markdown",
      "metadata": {
        "id": "6OJexjD7r6bj",
        "colab_type": "text"
      },
      "source": [
        "dicomファイルをloadしたいので、pydicomをimport"
      ]
    },
    {
      "cell_type": "code",
      "metadata": {
        "id": "-nKkA5jyrAtb",
        "colab_type": "code",
        "colab": {}
      },
      "source": [
        "from tciaclient import TCIAClient"
      ],
      "execution_count": null,
      "outputs": []
    },
    {
      "cell_type": "markdown",
      "metadata": {
        "id": "13i5S3u0sRPz",
        "colab_type": "text"
      },
      "source": [
        "tciaclient.pyの5行目\n",
        "\n",
        "> import dicom⇒pydicom\n",
        "のみ変更した。\n",
        "\n"
      ]
    },
    {
      "cell_type": "code",
      "metadata": {
        "id": "vECMDgUUrit1",
        "colab_type": "code",
        "colab": {}
      },
      "source": [
        "import urllib.request, urllib.error, urllib.parse, urllib.request, urllib.parse, urllib.error,sys\n",
        "import json"
      ],
      "execution_count": null,
      "outputs": []
    },
    {
      "cell_type": "code",
      "metadata": {
        "id": "ML5W-0mbrvdw",
        "colab_type": "code",
        "colab": {}
      },
      "source": [
        "tcia_client = TCIAClient(apiKey = \"7ad8c98d-74f9-4ebf-a59c-c3de09550db4\",baseUrl=\"https://services.cancerimagingarchive.net/services/v3\",resource = \"TCIA\")"
      ],
      "execution_count": null,
      "outputs": []
    },
    {
      "cell_type": "markdown",
      "metadata": {
        "id": "M6H06iZ-ss4r",
        "colab_type": "text"
      },
      "source": [
        "apikeyは長期に使用する場合は自分で取得すること"
      ]
    },
    {
      "cell_type": "code",
      "metadata": {
        "id": "36Kue0IQrUeh",
        "colab_type": "code",
        "colab": {}
      },
      "source": [
        "# Test get_image.\n",
        "# NOTE: Image response consumed differently\n",
        "try:\n",
        "    response = tcia_client.get_image(seriesInstanceUid =\"1.3.6.1.4.1.14519.5.2.1.7695.4001.306204232344341694648035234440\" , downloadPath  =\"/content/drive/My Drive/TCIA-Python3-Downloader-Menu-3.1/image\", zipFileName =\"images.zip\");\n",
        "    print(\"\\nQuery TCIA - getImage(1.3.6.1.4.1.14519.5.2.1.7695.4001.306204232344341694648035234440, DownloadPath, FileLocation)\")\n",
        "    print(response);\n",
        "except urllib.error.HTTPError as err:\n",
        "    print(\"Error executing program:\\nError Code: \", str(err.code), \"\\nMessage:\", err.read())"
      ],
      "execution_count": null,
      "outputs": []
    },
    {
      "cell_type": "markdown",
      "metadata": {
        "id": "OD9yBIe3s5wq",
        "colab_type": "text"
      },
      "source": [
        "instance UIDの参照方法ははtciaclient.py, sample.pyを参照。"
      ]
    },
    {
      "cell_type": "code",
      "metadata": {
        "id": "vSiRvcOct2yF",
        "colab_type": "code",
        "colab": {}
      },
      "source": [
        "!unzip images.zip -d \"/content/drive/My Drive/TCIA-Python3-Downloader-Menu-3.1/image\""
      ],
      "execution_count": null,
      "outputs": []
    },
    {
      "cell_type": "markdown",
      "metadata": {
        "id": "R5JscNRttyB3",
        "colab_type": "text"
      },
      "source": [
        "画像(.zip)の展開"
      ]
    },
    {
      "cell_type": "code",
      "metadata": {
        "id": "r0eMFF0R0mPy",
        "colab_type": "code",
        "colab": {
          "base_uri": "https://localhost:8080/",
          "height": 34
        },
        "outputId": "d285ff1e-cc61-4031-a245-b669dc0029cd"
      },
      "source": [
        "!rm \"/content/drive/My Drive/TCIA-Python3-Downloader-Menu-3.1/image/images.zip\""
      ],
      "execution_count": null,
      "outputs": [
        {
          "output_type": "stream",
          "text": [
            "rm: cannot remove '/content/drive/My Drive/TCIA-Python3-Downloader-Menu-3.1/image/images.zip': No such file or directory\n"
          ],
          "name": "stdout"
        }
      ]
    },
    {
      "cell_type": "code",
      "metadata": {
        "id": "9xgV_4iuv4bl",
        "colab_type": "code",
        "colab": {}
      },
      "source": [
        "import matplotlib.pyplot as plt\n",
        "import pydicom\n",
        "ds = pydicom.dcmread('/content/drive/My Drive/TCIA-Python3-Downloader-Menu-3.1/image/95-094.dcm')\n",
        "print(ds)\n",
        "plt.imshow(ds.pixel_array, cmap=plt.cm.bone)"
      ],
      "execution_count": null,
      "outputs": []
    },
    {
      "cell_type": "markdown",
      "metadata": {
        "id": "Gu2iD8CwGUGF",
        "colab_type": "text"
      },
      "source": [
        "取得した画像の表示\n",
        "\n",
        "pydicomの使い方\n",
        "\n",
        "⇒https://kita-note.com/category/pydicom"
      ]
    },
    {
      "cell_type": "code",
      "metadata": {
        "id": "C5VNuJty2MNO",
        "colab_type": "code",
        "colab": {}
      },
      "source": [
        "import numpy as np\n",
        "b = np.array(ds.pixel_array)\n",
        "print(int(b.nbytes/1024),\"KB\")\n",
        "# 全てのメタデータを表示\n",
        "print(ds.file_meta)\n",
        " \n",
        "# 特定のメタデータのみ表示\n",
        "print(ds.file_meta.ImplementationVersionName )\n",
        "\n",
        "print(ds.dir())\n",
        "print(ds.dir('sop'))"
      ],
      "execution_count": null,
      "outputs": []
    },
    {
      "cell_type": "code",
      "metadata": {
        "id": "NOoYxPVZdSje",
        "colab_type": "code",
        "colab": {}
      },
      "source": [
        "!ls -1 | wc -l\n",
        "!du -s '/content/drive/My Drive/TCIA-Python3-Downloader-Menu-3.1/image'\n",
        "#du unit size⇒\"\"KB\"\n",
        "#disk used : 15.8MB"
      ],
      "execution_count": null,
      "outputs": []
    }
  ]
}